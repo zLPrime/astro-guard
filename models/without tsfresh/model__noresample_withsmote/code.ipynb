{
  "cells": [
    {
      "cell_type": "code",
      "execution_count": null,
      "metadata": {
        "id": "Yj3pNSQkw8lO"
      },
      "outputs": [],
      "source": [
        "import numpy as np\n",
        "import pandas as pd\n",
        "import tensorflow as tf\n",
        "from imblearn.over_sampling import SMOTE\n",
        "from sklearn.metrics import classification_report, f1_score\n",
        "from sklearn.model_selection import train_test_split\n",
        "from sklearn.preprocessing import OneHotEncoder, StandardScaler\n",
        "from tensorflow.keras import Input, Model\n",
        "from tensorflow.keras import backend as K\n",
        "from tensorflow.keras.callbacks import EarlyStopping, TensorBoard\n",
        "from tensorflow.keras.layers import *\n",
        "from tensorflow.keras.metrics import Metric\n",
        "from tensorflow.keras.optimizers import Nadam\n",
        "from tensorflow.keras.metrics import Metric\n",
        "from tensorflow.keras.regularizers import l2\n"
      ]
    },
    {
      "cell_type": "code",
      "execution_count": 5,
      "metadata": {
        "id": "x1cNOtSkw8lQ"
      },
      "outputs": [],
      "source": [
        "# Загрузка данных\n",
        "y_labels = pd.read_csv('drive/MyDrive/y_labels_100thsnd.csv')\n",
        "cnn_arrays = np.load('drive/MyDrive/shuffled_combined_100thsnd.npz')\n",
        "X_ts = cnn_arrays['X']\n",
        "ids_ts = cnn_arrays['ids']"
      ]
    },
    {
      "cell_type": "code",
      "execution_count": 6,
      "metadata": {
        "id": "4Yr90dGzw8lQ"
      },
      "outputs": [],
      "source": [
        "# Создание индексов для корректного разделения\n",
        "indices = np.arange(len(X_ts))\n",
        "# Стратифицированное разделение с сохранением индексов\n",
        "X_train, X_val, y_train, y_val, idx_train, idx_val = train_test_split(\n",
        "    X_ts,\n",
        "    y_labels['main_class'].values,\n",
        "    indices,\n",
        "    test_size=0.2,\n",
        "    stratify=y_labels['main_class'],\n",
        "    random_state=42\n",
        ")"
      ]
    },
    {
      "cell_type": "code",
      "execution_count": 7,
      "metadata": {
        "id": "zu_rQnjrw8lQ"
      },
      "outputs": [],
      "source": [
        "# Кодирование целевых переменных\n",
        "ohe_main = OneHotEncoder(sparse_output=False)\n",
        "y_main = ohe_main.fit_transform(y_labels[['main_class']])"
      ]
    },
    {
      "cell_type": "code",
      "execution_count": 8,
      "metadata": {
        "colab": {
          "base_uri": "https://localhost:8080/"
        },
        "id": "1IDPPNtzdvot",
        "outputId": "6bc454aa-c668-4ccb-e06a-7e0431a6c6f3"
      },
      "outputs": [
        {
          "name": "stdout",
          "output_type": "stream",
          "text": [
            "[['ECLIPSING' 21962]\n",
            " ['ERUPTIVE' 2928]\n",
            " ['PULSATING' 34731]\n",
            " ['ROTATING' 12565]\n",
            " ['cataclysmic' 4100]]\n"
          ]
        }
      ],
      "source": [
        "unique, counts = np.unique(y_train, return_counts=True)\n",
        "print(np.asarray((unique, counts)).T)"
      ]
    },
    {
      "cell_type": "code",
      "execution_count": 9,
      "metadata": {
        "id": "5bYhDMIuw8lR"
      },
      "outputs": [],
      "source": [
        "# Применение SMOTE\n",
        "smote = SMOTE(\n",
        "    sampling_strategy={\n",
        "        'ECLIPSING': 21962,\n",
        "        'ERUPTIVE': 10000,\n",
        "        'PULSATING': 34731,\n",
        "        'ROTATING': 20000,\n",
        "        'cataclysmic': 10000\n",
        "    },\n",
        "    random_state=42,\n",
        "    k_neighbors=3\n",
        ")\n",
        "\n",
        "# Преобразование данных для SMOTE\n",
        "n_samples, timesteps, features = X_train.shape\n",
        "X_train_flat = X_train.reshape(n_samples, -1)\n",
        "X_train_resampled_flat, y_train_resampled = smote.fit_resample(X_train_flat, y_train)\n",
        "\n",
        "# Восстановление 3D структуры\n",
        "X_train_resampled = X_train_resampled_flat.reshape(-1, timesteps, features)\n",
        "\n",
        "# Генерация ID для синтетических данных\n",
        "original_ids_train = ids_ts[idx_train]\n",
        "n_synthetic = len(y_train_resampled) - len(y_train)\n",
        "synthetic_ids = np.array([f'synthetic_{i}' for i in range(n_synthetic)])\n",
        "ids_train_resampled = np.concatenate([original_ids_train, synthetic_ids])\n"
      ]
    },
    {
      "cell_type": "code",
      "execution_count": null,
      "metadata": {
        "id": "Hk645w46b9TI"
      },
      "outputs": [],
      "source": [
        "class TemporalScaler:\n",
        "    def __init__(self):\n",
        "        self.scalers = []\n",
        "\n",
        "    def fit(self, X_train):\n",
        "        \"\"\"Обучение на тренировочных данных\"\"\"\n",
        "        self.scalers = []\n",
        "        for feat_idx in range(X_train.shape[2]):\n",
        "            scaler = StandardScaler()\n",
        "            scaler.fit(X_train[:, :, feat_idx].reshape(-1, 1))\n",
        "            self.scalers.append(scaler)\n",
        "        return self\n",
        "\n",
        "    def transform(self, X):\n",
        "        \"\"\"Применение к любым данным\"\"\"\n",
        "        X_scaled = np.zeros_like(X)\n",
        "        for feat_idx in range(X.shape[2]):\n",
        "            X_scaled[:, :, feat_idx] = self.scalers[feat_idx].transform(\n",
        "                X[:, :, feat_idx].reshape(-1, 1)\n",
        "            ).reshape(X.shape[0], X.shape[1])\n",
        "        return X_scaled\n",
        "\n",
        "# Использование\n",
        "scaler = TemporalScaler()\n",
        "scaler.fit(X_train_resampled)  \n",
        "\n",
        "X_train_scaled = scaler.transform(X_train_resampled)\n",
        "X_val_scaled = scaler.transform(X_val)  \n"
      ]
    },
    {
      "cell_type": "code",
      "execution_count": null,
      "metadata": {
        "id": "KVC3uTeKw8lS"
      },
      "outputs": [],
      "source": [
        "# Callbacks\n",
        "from tensorflow.keras.callbacks import ModelCheckpoint\n",
        "# Коллбэк для сохранения по F1\n",
        "checkpoint_f1 = ModelCheckpoint(\n",
        "    filepath='drive/MyDrive/best_f1withsmote.keras', \n",
        "    monitor='val_f1_score',\n",
        "    mode='max',\n",
        "    save_best_only=True,\n",
        "    verbose=1\n",
        ")\n",
        "\n",
        "# Коллбэк для сохранения по val_loss\n",
        "checkpoint_loss = ModelCheckpoint(\n",
        "    filepath='drive/MyDrive/best_losswithsmote.keras',\n",
        "    monitor='val_loss',\n",
        "    mode='min',\n",
        "    save_best_only=True,\n",
        "    verbose=1\n",
        ")\n",
        "\n",
        "callbacks = [\n",
        "    EarlyStopping(patience=5, restore_best_weights=True),\n",
        "    TensorBoard(log_dir='./logs'),\n",
        "    checkpoint_f1,\n",
        "    checkpoint_loss\n",
        "]"
      ]
    },
    {
      "cell_type": "code",
      "execution_count": 11,
      "metadata": {
        "id": "ErrjrFLTw8lS"
      },
      "outputs": [],
      "source": [
        "# Преобразование меток в one-hot\n",
        "y_train_resampled_onehot = ohe_main.transform(pd.DataFrame(y_train_resampled, columns=['main_class']))\n",
        "y_val_onehot = ohe_main.transform(pd.DataFrame(y_val, columns=['main_class']))"
      ]
    },
    {
      "cell_type": "code",
      "execution_count": 12,
      "metadata": {
        "id": "TGhkxa-qw8lT"
      },
      "outputs": [],
      "source": [
        "def build_enhanced_model(input_shape, num_classes):\n",
        "    # Вход для временных рядов\n",
        "    ts_input = Input(shape=input_shape, name='ts_input')\n",
        "\n",
        "    # CNN-ветвь\n",
        "    x = Conv1D(128, 7, padding='same')(ts_input)\n",
        "    x = BatchNormalization()(x)\n",
        "    x = Activation('relu')(x)\n",
        "    x = Dropout(0.3)(x)\n",
        "    x = Conv1D(256, 7, padding='same')(x)\n",
        "    x = BatchNormalization()(x)\n",
        "    x = Activation('relu')(x)\n",
        "    x = Dropout(0.3)(x)\n",
        "    x = MaxPooling1D(2)(x)\n",
        "\n",
        "    # Сохраняем тензор для residual connection\n",
        "    residual = x\n",
        "\n",
        "    # Transformer блок\n",
        "    x = MultiHeadAttention(num_heads=8, key_dim=32)(x, x)\n",
        "    x = LayerNormalization(epsilon=1e-6)(x + residual)\n",
        "\n",
        "    # LSTM блок\n",
        "    x = Bidirectional(LSTM(64, return_sequences=True))(x)\n",
        "    x = GlobalAveragePooling1D()(x)\n",
        "\n",
        "    # Классификатор\n",
        "    output = Dense(512, activation='relu', kernel_regularizer=l2(0.01))(x)\n",
        "    output = Dropout(0.5)(output)\n",
        "    output = Dense(num_classes, activation='softmax')(output)\n",
        "\n",
        "    return Model(inputs=ts_input, outputs=output)"
      ]
    },
    {
      "cell_type": "code",
      "execution_count": 16,
      "metadata": {
        "id": "vU3Mrr8Fw8lT"
      },
      "outputs": [],
      "source": [
        "# Компиляция модели\n",
        "model = build_enhanced_model(\n",
        "    input_shape=(timesteps, features),\n",
        "    num_classes=len(ohe_main.categories_[0])\n",
        ")\n",
        "model.compile(\n",
        "    optimizer=Nadam(learning_rate=0.001),\n",
        "    loss='categorical_crossentropy',\n",
        "    metrics=[F1Score(average='macro')]\n",
        ")"
      ]
    },
    {
      "cell_type": "code",
      "execution_count": 17,
      "metadata": {
        "colab": {
          "base_uri": "https://localhost:8080/"
        },
        "id": "gkJASiA_w8lT",
        "outputId": "eacbc1bc-f040-40da-ebd2-ed21e555ff3a"
      },
      "outputs": [
        {
          "name": "stdout",
          "output_type": "stream",
          "text": [
            "Epoch 1/50\n",
            "\u001b[1m756/756\u001b[0m \u001b[32m━━━━━━━━━━━━━━━━━━━━\u001b[0m\u001b[37m\u001b[0m \u001b[1m0s\u001b[0m 148ms/step - f1_score: 0.4814 - loss: 1.6194\n",
            "Epoch 1: val_f1_score improved from -inf to 0.50763, saving model to drive/MyDrive/best_f1withsmote.keras\n",
            "\n",
            "Epoch 1: val_loss improved from inf to 1.01563, saving model to drive/MyDrive/best_losswithsmote.keras\n",
            "\u001b[1m756/756\u001b[0m \u001b[32m━━━━━━━━━━━━━━━━━━━━\u001b[0m\u001b[37m\u001b[0m \u001b[1m132s\u001b[0m 159ms/step - f1_score: 0.4815 - loss: 1.6189 - val_f1_score: 0.5076 - val_loss: 1.0156\n",
            "Epoch 2/50\n",
            "\u001b[1m756/756\u001b[0m \u001b[32m━━━━━━━━━━━━━━━━━━━━\u001b[0m\u001b[37m\u001b[0m \u001b[1m0s\u001b[0m 148ms/step - f1_score: 0.5863 - loss: 1.0116\n",
            "Epoch 2: val_f1_score improved from 0.50763 to 0.52397, saving model to drive/MyDrive/best_f1withsmote.keras\n",
            "\n",
            "Epoch 2: val_loss improved from 1.01563 to 0.98623, saving model to drive/MyDrive/best_losswithsmote.keras\n",
            "\u001b[1m756/756\u001b[0m \u001b[32m━━━━━━━━━━━━━━━━━━━━\u001b[0m\u001b[37m\u001b[0m \u001b[1m119s\u001b[0m 158ms/step - f1_score: 0.5863 - loss: 1.0116 - val_f1_score: 0.5240 - val_loss: 0.9862\n",
            "Epoch 3/50\n",
            "\u001b[1m756/756\u001b[0m \u001b[32m━━━━━━━━━━━━━━━━━━━━\u001b[0m\u001b[37m\u001b[0m \u001b[1m0s\u001b[0m 149ms/step - f1_score: 0.6104 - loss: 0.9670\n",
            "Epoch 3: val_f1_score did not improve from 0.52397\n",
            "\n",
            "Epoch 3: val_loss improved from 0.98623 to 0.96630, saving model to drive/MyDrive/best_losswithsmote.keras\n",
            "\u001b[1m756/756\u001b[0m \u001b[32m━━━━━━━━━━━━━━━━━━━━\u001b[0m\u001b[37m\u001b[0m \u001b[1m145s\u001b[0m 162ms/step - f1_score: 0.6104 - loss: 0.9670 - val_f1_score: 0.5154 - val_loss: 0.9663\n",
            "Epoch 4/50\n",
            "\u001b[1m756/756\u001b[0m \u001b[32m━━━━━━━━━━━━━━━━━━━━\u001b[0m\u001b[37m\u001b[0m \u001b[1m0s\u001b[0m 148ms/step - f1_score: 0.6237 - loss: 0.9330\n",
            "Epoch 4: val_f1_score improved from 0.52397 to 0.53673, saving model to drive/MyDrive/best_f1withsmote.keras\n",
            "\n",
            "Epoch 4: val_loss did not improve from 0.96630\n",
            "\u001b[1m756/756\u001b[0m \u001b[32m━━━━━━━━━━━━━━━━━━━━\u001b[0m\u001b[37m\u001b[0m \u001b[1m119s\u001b[0m 157ms/step - f1_score: 0.6237 - loss: 0.9330 - val_f1_score: 0.5367 - val_loss: 0.9689\n",
            "Epoch 5/50\n",
            "\u001b[1m756/756\u001b[0m \u001b[32m━━━━━━━━━━━━━━━━━━━━\u001b[0m\u001b[37m\u001b[0m \u001b[1m0s\u001b[0m 144ms/step - f1_score: 0.6313 - loss: 0.9181\n",
            "Epoch 5: val_f1_score improved from 0.53673 to 0.55906, saving model to drive/MyDrive/best_f1withsmote.keras\n",
            "\n",
            "Epoch 5: val_loss improved from 0.96630 to 0.92346, saving model to drive/MyDrive/best_losswithsmote.keras\n",
            "\u001b[1m756/756\u001b[0m \u001b[32m━━━━━━━━━━━━━━━━━━━━\u001b[0m\u001b[37m\u001b[0m \u001b[1m139s\u001b[0m 153ms/step - f1_score: 0.6313 - loss: 0.9181 - val_f1_score: 0.5591 - val_loss: 0.9235\n",
            "Epoch 6/50\n",
            "\u001b[1m756/756\u001b[0m \u001b[32m━━━━━━━━━━━━━━━━━━━━\u001b[0m\u001b[37m\u001b[0m \u001b[1m0s\u001b[0m 143ms/step - f1_score: 0.6426 - loss: 0.9000\n",
            "Epoch 6: val_f1_score improved from 0.55906 to 0.55968, saving model to drive/MyDrive/best_f1withsmote.keras\n",
            "\n",
            "Epoch 6: val_loss did not improve from 0.92346\n",
            "\u001b[1m756/756\u001b[0m \u001b[32m━━━━━━━━━━━━━━━━━━━━\u001b[0m\u001b[37m\u001b[0m \u001b[1m145s\u001b[0m 157ms/step - f1_score: 0.6426 - loss: 0.9000 - val_f1_score: 0.5597 - val_loss: 0.9542\n",
            "Epoch 7/50\n",
            "\u001b[1m756/756\u001b[0m \u001b[32m━━━━━━━━━━━━━━━━━━━━\u001b[0m\u001b[37m\u001b[0m \u001b[1m0s\u001b[0m 143ms/step - f1_score: 0.6478 - loss: 0.8860\n",
            "Epoch 7: val_f1_score improved from 0.55968 to 0.56948, saving model to drive/MyDrive/best_f1withsmote.keras\n",
            "\n",
            "Epoch 7: val_loss improved from 0.92346 to 0.91293, saving model to drive/MyDrive/best_losswithsmote.keras\n",
            "\u001b[1m756/756\u001b[0m \u001b[32m━━━━━━━━━━━━━━━━━━━━\u001b[0m\u001b[37m\u001b[0m \u001b[1m142s\u001b[0m 157ms/step - f1_score: 0.6478 - loss: 0.8860 - val_f1_score: 0.5695 - val_loss: 0.9129\n",
            "Epoch 8/50\n",
            "\u001b[1m756/756\u001b[0m \u001b[32m━━━━━━━━━━━━━━━━━━━━\u001b[0m\u001b[37m\u001b[0m \u001b[1m0s\u001b[0m 143ms/step - f1_score: 0.6539 - loss: 0.8781\n",
            "Epoch 8: val_f1_score did not improve from 0.56948\n",
            "\n",
            "Epoch 8: val_loss improved from 0.91293 to 0.91011, saving model to drive/MyDrive/best_losswithsmote.keras\n",
            "\u001b[1m756/756\u001b[0m \u001b[32m━━━━━━━━━━━━━━━━━━━━\u001b[0m\u001b[37m\u001b[0m \u001b[1m142s\u001b[0m 157ms/step - f1_score: 0.6539 - loss: 0.8781 - val_f1_score: 0.5644 - val_loss: 0.9101\n",
            "Epoch 9/50\n",
            "\u001b[1m756/756\u001b[0m \u001b[32m━━━━━━━━━━━━━━━━━━━━\u001b[0m\u001b[37m\u001b[0m \u001b[1m0s\u001b[0m 148ms/step - f1_score: 0.6504 - loss: 0.8779\n",
            "Epoch 9: val_f1_score did not improve from 0.56948\n",
            "\n",
            "Epoch 9: val_loss did not improve from 0.91011\n",
            "\u001b[1m756/756\u001b[0m \u001b[32m━━━━━━━━━━━━━━━━━━━━\u001b[0m\u001b[37m\u001b[0m \u001b[1m145s\u001b[0m 161ms/step - f1_score: 0.6504 - loss: 0.8779 - val_f1_score: 0.5611 - val_loss: 0.9285\n",
            "Epoch 10/50\n",
            "\u001b[1m756/756\u001b[0m \u001b[32m━━━━━━━━━━━━━━━━━━━━\u001b[0m\u001b[37m\u001b[0m \u001b[1m0s\u001b[0m 148ms/step - f1_score: 0.6602 - loss: 0.8632\n",
            "Epoch 10: val_f1_score improved from 0.56948 to 0.57100, saving model to drive/MyDrive/best_f1withsmote.keras\n",
            "\n",
            "Epoch 10: val_loss did not improve from 0.91011\n",
            "\u001b[1m756/756\u001b[0m \u001b[32m━━━━━━━━━━━━━━━━━━━━\u001b[0m\u001b[37m\u001b[0m \u001b[1m139s\u001b[0m 158ms/step - f1_score: 0.6602 - loss: 0.8632 - val_f1_score: 0.5710 - val_loss: 0.9126\n",
            "Epoch 11/50\n",
            "\u001b[1m756/756\u001b[0m \u001b[32m━━━━━━━━━━━━━━━━━━━━\u001b[0m\u001b[37m\u001b[0m \u001b[1m0s\u001b[0m 148ms/step - f1_score: 0.6699 - loss: 0.8519\n",
            "Epoch 11: val_f1_score did not improve from 0.57100\n",
            "\n",
            "Epoch 11: val_loss did not improve from 0.91011\n",
            "\u001b[1m756/756\u001b[0m \u001b[32m━━━━━━━━━━━━━━━━━━━━\u001b[0m\u001b[37m\u001b[0m \u001b[1m142s\u001b[0m 158ms/step - f1_score: 0.6699 - loss: 0.8519 - val_f1_score: 0.5499 - val_loss: 0.9198\n",
            "Epoch 12/50\n",
            "\u001b[1m756/756\u001b[0m \u001b[32m━━━━━━━━━━━━━━━━━━━━\u001b[0m\u001b[37m\u001b[0m \u001b[1m0s\u001b[0m 149ms/step - f1_score: 0.6705 - loss: 0.8435\n",
            "Epoch 12: val_f1_score did not improve from 0.57100\n",
            "\n",
            "Epoch 12: val_loss did not improve from 0.91011\n",
            "\u001b[1m756/756\u001b[0m \u001b[32m━━━━━━━━━━━━━━━━━━━━\u001b[0m\u001b[37m\u001b[0m \u001b[1m146s\u001b[0m 163ms/step - f1_score: 0.6705 - loss: 0.8435 - val_f1_score: 0.5657 - val_loss: 0.9292\n",
            "Epoch 13/50\n",
            "\u001b[1m756/756\u001b[0m \u001b[32m━━━━━━━━━━━━━━━━━━━━\u001b[0m\u001b[37m\u001b[0m \u001b[1m0s\u001b[0m 149ms/step - f1_score: 0.6715 - loss: 0.8371\n",
            "Epoch 13: val_f1_score did not improve from 0.57100\n",
            "\n",
            "Epoch 13: val_loss improved from 0.91011 to 0.90105, saving model to drive/MyDrive/best_losswithsmote.keras\n",
            "\u001b[1m756/756\u001b[0m \u001b[32m━━━━━━━━━━━━━━━━━━━━\u001b[0m\u001b[37m\u001b[0m \u001b[1m123s\u001b[0m 163ms/step - f1_score: 0.6715 - loss: 0.8371 - val_f1_score: 0.5667 - val_loss: 0.9010\n",
            "Epoch 14/50\n",
            "\u001b[1m756/756\u001b[0m \u001b[32m━━━━━━━━━━━━━━━━━━━━\u001b[0m\u001b[37m\u001b[0m \u001b[1m0s\u001b[0m 149ms/step - f1_score: 0.6758 - loss: 0.8311\n",
            "Epoch 14: val_f1_score improved from 0.57100 to 0.58282, saving model to drive/MyDrive/best_f1withsmote.keras\n",
            "\n",
            "Epoch 14: val_loss improved from 0.90105 to 0.88763, saving model to drive/MyDrive/best_losswithsmote.keras\n",
            "\u001b[1m756/756\u001b[0m \u001b[32m━━━━━━━━━━━━━━━━━━━━\u001b[0m\u001b[37m\u001b[0m \u001b[1m120s\u001b[0m 159ms/step - f1_score: 0.6758 - loss: 0.8311 - val_f1_score: 0.5828 - val_loss: 0.8876\n",
            "Epoch 15/50\n",
            "\u001b[1m756/756\u001b[0m \u001b[32m━━━━━━━━━━━━━━━━━━━━\u001b[0m\u001b[37m\u001b[0m \u001b[1m0s\u001b[0m 148ms/step - f1_score: 0.6817 - loss: 0.8217\n",
            "Epoch 15: val_f1_score did not improve from 0.58282\n",
            "\n",
            "Epoch 15: val_loss did not improve from 0.88763\n",
            "\u001b[1m756/756\u001b[0m \u001b[32m━━━━━━━━━━━━━━━━━━━━\u001b[0m\u001b[37m\u001b[0m \u001b[1m122s\u001b[0m 162ms/step - f1_score: 0.6817 - loss: 0.8217 - val_f1_score: 0.5633 - val_loss: 0.9426\n",
            "Epoch 16/50\n",
            "\u001b[1m756/756\u001b[0m \u001b[32m━━━━━━━━━━━━━━━━━━━━\u001b[0m\u001b[37m\u001b[0m \u001b[1m0s\u001b[0m 149ms/step - f1_score: 0.6797 - loss: 0.8184\n",
            "Epoch 16: val_f1_score did not improve from 0.58282\n",
            "\n",
            "Epoch 16: val_loss improved from 0.88763 to 0.88732, saving model to drive/MyDrive/best_losswithsmote.keras\n",
            "\u001b[1m756/756\u001b[0m \u001b[32m━━━━━━━━━━━━━━━━━━━━\u001b[0m\u001b[37m\u001b[0m \u001b[1m139s\u001b[0m 158ms/step - f1_score: 0.6797 - loss: 0.8184 - val_f1_score: 0.5731 - val_loss: 0.8873\n",
            "Epoch 17/50\n",
            "\u001b[1m756/756\u001b[0m \u001b[32m━━━━━━━━━━━━━━━━━━━━\u001b[0m\u001b[37m\u001b[0m \u001b[1m0s\u001b[0m 148ms/step - f1_score: 0.6833 - loss: 0.8177\n",
            "Epoch 17: val_f1_score improved from 0.58282 to 0.58443, saving model to drive/MyDrive/best_f1withsmote.keras\n",
            "\n",
            "Epoch 17: val_loss improved from 0.88732 to 0.88588, saving model to drive/MyDrive/best_losswithsmote.keras\n",
            "\u001b[1m756/756\u001b[0m \u001b[32m━━━━━━━━━━━━━━━━━━━━\u001b[0m\u001b[37m\u001b[0m \u001b[1m142s\u001b[0m 158ms/step - f1_score: 0.6833 - loss: 0.8176 - val_f1_score: 0.5844 - val_loss: 0.8859\n",
            "Epoch 18/50\n",
            "\u001b[1m756/756\u001b[0m \u001b[32m━━━━━━━━━━━━━━━━━━━━\u001b[0m\u001b[37m\u001b[0m \u001b[1m0s\u001b[0m 148ms/step - f1_score: 0.6850 - loss: 0.8143\n",
            "Epoch 18: val_f1_score did not improve from 0.58443\n",
            "\n",
            "Epoch 18: val_loss did not improve from 0.88588\n",
            "\u001b[1m756/756\u001b[0m \u001b[32m━━━━━━━━━━━━━━━━━━━━\u001b[0m\u001b[37m\u001b[0m \u001b[1m142s\u001b[0m 158ms/step - f1_score: 0.6850 - loss: 0.8143 - val_f1_score: 0.5812 - val_loss: 0.8929\n",
            "Epoch 19/50\n",
            "\u001b[1m756/756\u001b[0m \u001b[32m━━━━━━━━━━━━━━━━━━━━\u001b[0m\u001b[37m\u001b[0m \u001b[1m0s\u001b[0m 148ms/step - f1_score: 0.6902 - loss: 0.8003\n",
            "Epoch 19: val_f1_score did not improve from 0.58443\n",
            "\n",
            "Epoch 19: val_loss did not improve from 0.88588\n",
            "\u001b[1m756/756\u001b[0m \u001b[32m━━━━━━━━━━━━━━━━━━━━\u001b[0m\u001b[37m\u001b[0m \u001b[1m122s\u001b[0m 162ms/step - f1_score: 0.6902 - loss: 0.8003 - val_f1_score: 0.5733 - val_loss: 0.9252\n",
            "Epoch 20/50\n",
            "\u001b[1m756/756\u001b[0m \u001b[32m━━━━━━━━━━━━━━━━━━━━\u001b[0m\u001b[37m\u001b[0m \u001b[1m0s\u001b[0m 148ms/step - f1_score: 0.6918 - loss: 0.7936\n",
            "Epoch 20: val_f1_score did not improve from 0.58443\n",
            "\n",
            "Epoch 20: val_loss did not improve from 0.88588\n",
            "\u001b[1m756/756\u001b[0m \u001b[32m━━━━━━━━━━━━━━━━━━━━\u001b[0m\u001b[37m\u001b[0m \u001b[1m139s\u001b[0m 158ms/step - f1_score: 0.6918 - loss: 0.7937 - val_f1_score: 0.5626 - val_loss: 0.9143\n",
            "Epoch 21/50\n",
            "\u001b[1m756/756\u001b[0m \u001b[32m━━━━━━━━━━━━━━━━━━━━\u001b[0m\u001b[37m\u001b[0m \u001b[1m0s\u001b[0m 149ms/step - f1_score: 0.6684 - loss: 0.8408\n",
            "Epoch 21: val_f1_score did not improve from 0.58443\n",
            "\n",
            "Epoch 21: val_loss improved from 0.88588 to 0.87871, saving model to drive/MyDrive/best_losswithsmote.keras\n",
            "\u001b[1m756/756\u001b[0m \u001b[32m━━━━━━━━━━━━━━━━━━━━\u001b[0m\u001b[37m\u001b[0m \u001b[1m145s\u001b[0m 162ms/step - f1_score: 0.6684 - loss: 0.8407 - val_f1_score: 0.5836 - val_loss: 0.8787\n",
            "Epoch 22/50\n",
            "\u001b[1m756/756\u001b[0m \u001b[32m━━━━━━━━━━━━━━━━━━━━\u001b[0m\u001b[37m\u001b[0m \u001b[1m0s\u001b[0m 149ms/step - f1_score: 0.6964 - loss: 0.7879\n",
            "Epoch 22: val_f1_score did not improve from 0.58443\n",
            "\n",
            "Epoch 22: val_loss did not improve from 0.87871\n",
            "\u001b[1m756/756\u001b[0m \u001b[32m━━━━━━━━━━━━━━━━━━━━\u001b[0m\u001b[37m\u001b[0m \u001b[1m138s\u001b[0m 158ms/step - f1_score: 0.6964 - loss: 0.7879 - val_f1_score: 0.5737 - val_loss: 0.8953\n",
            "Epoch 23/50\n",
            "\u001b[1m756/756\u001b[0m \u001b[32m━━━━━━━━━━━━━━━━━━━━\u001b[0m\u001b[37m\u001b[0m \u001b[1m0s\u001b[0m 148ms/step - f1_score: 0.6972 - loss: 0.7869\n",
            "Epoch 23: val_f1_score improved from 0.58443 to 0.58520, saving model to drive/MyDrive/best_f1withsmote.keras\n",
            "\n",
            "Epoch 23: val_loss did not improve from 0.87871\n",
            "\u001b[1m756/756\u001b[0m \u001b[32m━━━━━━━━━━━━━━━━━━━━\u001b[0m\u001b[37m\u001b[0m \u001b[1m145s\u001b[0m 162ms/step - f1_score: 0.6972 - loss: 0.7870 - val_f1_score: 0.5852 - val_loss: 0.8848\n",
            "Epoch 24/50\n",
            "\u001b[1m756/756\u001b[0m \u001b[32m━━━━━━━━━━━━━━━━━━━━\u001b[0m\u001b[37m\u001b[0m \u001b[1m0s\u001b[0m 148ms/step - f1_score: 0.6982 - loss: 0.7852\n",
            "Epoch 24: val_f1_score did not improve from 0.58520\n",
            "\n",
            "Epoch 24: val_loss did not improve from 0.87871\n",
            "\u001b[1m756/756\u001b[0m \u001b[32m━━━━━━━━━━━━━━━━━━━━\u001b[0m\u001b[37m\u001b[0m \u001b[1m142s\u001b[0m 162ms/step - f1_score: 0.6982 - loss: 0.7852 - val_f1_score: 0.5813 - val_loss: 0.8890\n",
            "Epoch 25/50\n",
            "\u001b[1m756/756\u001b[0m \u001b[32m━━━━━━━━━━━━━━━━━━━━\u001b[0m\u001b[37m\u001b[0m \u001b[1m0s\u001b[0m 148ms/step - f1_score: 0.7016 - loss: 0.7796\n",
            "Epoch 25: val_f1_score did not improve from 0.58520\n",
            "\n",
            "Epoch 25: val_loss did not improve from 0.87871\n",
            "\u001b[1m756/756\u001b[0m \u001b[32m━━━━━━━━━━━━━━━━━━━━\u001b[0m\u001b[37m\u001b[0m \u001b[1m123s\u001b[0m 162ms/step - f1_score: 0.7016 - loss: 0.7796 - val_f1_score: 0.5848 - val_loss: 0.8928\n",
            "Epoch 26/50\n",
            "\u001b[1m756/756\u001b[0m \u001b[32m━━━━━━━━━━━━━━━━━━━━\u001b[0m\u001b[37m\u001b[0m \u001b[1m0s\u001b[0m 148ms/step - f1_score: 0.7019 - loss: 0.7782\n",
            "Epoch 26: val_f1_score improved from 0.58520 to 0.58618, saving model to drive/MyDrive/best_f1withsmote.keras\n",
            "\n",
            "Epoch 26: val_loss improved from 0.87871 to 0.87457, saving model to drive/MyDrive/best_losswithsmote.keras\n",
            "\u001b[1m756/756\u001b[0m \u001b[32m━━━━━━━━━━━━━━━━━━━━\u001b[0m\u001b[37m\u001b[0m \u001b[1m142s\u001b[0m 162ms/step - f1_score: 0.7019 - loss: 0.7782 - val_f1_score: 0.5862 - val_loss: 0.8746\n",
            "Epoch 27/50\n",
            "\u001b[1m756/756\u001b[0m \u001b[32m━━━━━━━━━━━━━━━━━━━━\u001b[0m\u001b[37m\u001b[0m \u001b[1m0s\u001b[0m 149ms/step - f1_score: 0.7062 - loss: 0.7704\n",
            "Epoch 27: val_f1_score did not improve from 0.58618\n",
            "\n",
            "Epoch 27: val_loss did not improve from 0.87457\n",
            "\u001b[1m756/756\u001b[0m \u001b[32m━━━━━━━━━━━━━━━━━━━━\u001b[0m\u001b[37m\u001b[0m \u001b[1m123s\u001b[0m 162ms/step - f1_score: 0.7062 - loss: 0.7704 - val_f1_score: 0.5834 - val_loss: 0.8872\n",
            "Epoch 28/50\n",
            "\u001b[1m756/756\u001b[0m \u001b[32m━━━━━━━━━━━━━━━━━━━━\u001b[0m\u001b[37m\u001b[0m \u001b[1m0s\u001b[0m 149ms/step - f1_score: 0.7089 - loss: 0.7613\n",
            "Epoch 28: val_f1_score did not improve from 0.58618\n",
            "\n",
            "Epoch 28: val_loss did not improve from 0.87457\n",
            "\u001b[1m756/756\u001b[0m \u001b[32m━━━━━━━━━━━━━━━━━━━━\u001b[0m\u001b[37m\u001b[0m \u001b[1m138s\u001b[0m 158ms/step - f1_score: 0.7089 - loss: 0.7613 - val_f1_score: 0.5851 - val_loss: 0.8808\n",
            "Epoch 29/50\n",
            "\u001b[1m756/756\u001b[0m \u001b[32m━━━━━━━━━━━━━━━━━━━━\u001b[0m\u001b[37m\u001b[0m \u001b[1m0s\u001b[0m 148ms/step - f1_score: 0.7095 - loss: 0.7602\n",
            "Epoch 29: val_f1_score did not improve from 0.58618\n",
            "\n",
            "Epoch 29: val_loss did not improve from 0.87457\n",
            "\u001b[1m756/756\u001b[0m \u001b[32m━━━━━━━━━━━━━━━━━━━━\u001b[0m\u001b[37m\u001b[0m \u001b[1m123s\u001b[0m 162ms/step - f1_score: 0.7095 - loss: 0.7602 - val_f1_score: 0.5737 - val_loss: 0.8975\n",
            "Epoch 30/50\n",
            "\u001b[1m756/756\u001b[0m \u001b[32m━━━━━━━━━━━━━━━━━━━━\u001b[0m\u001b[37m\u001b[0m \u001b[1m0s\u001b[0m 149ms/step - f1_score: 0.7110 - loss: 0.7559\n",
            "Epoch 30: val_f1_score did not improve from 0.58618\n",
            "\n",
            "Epoch 30: val_loss did not improve from 0.87457\n",
            "\u001b[1m756/756\u001b[0m \u001b[32m━━━━━━━━━━━━━━━━━━━━\u001b[0m\u001b[37m\u001b[0m \u001b[1m139s\u001b[0m 158ms/step - f1_score: 0.7110 - loss: 0.7559 - val_f1_score: 0.5844 - val_loss: 0.8770\n",
            "Epoch 31/50\n",
            "\u001b[1m756/756\u001b[0m \u001b[32m━━━━━━━━━━━━━━━━━━━━\u001b[0m\u001b[37m\u001b[0m \u001b[1m0s\u001b[0m 149ms/step - f1_score: 0.7157 - loss: 0.7522\n",
            "Epoch 31: val_f1_score improved from 0.58618 to 0.59779, saving model to drive/MyDrive/best_f1withsmote.keras\n",
            "\n",
            "Epoch 31: val_loss improved from 0.87457 to 0.86993, saving model to drive/MyDrive/best_losswithsmote.keras\n",
            "\u001b[1m756/756\u001b[0m \u001b[32m━━━━━━━━━━━━━━━━━━━━\u001b[0m\u001b[37m\u001b[0m \u001b[1m146s\u001b[0m 163ms/step - f1_score: 0.7157 - loss: 0.7523 - val_f1_score: 0.5978 - val_loss: 0.8699\n",
            "Epoch 32/50\n",
            "\u001b[1m756/756\u001b[0m \u001b[32m━━━━━━━━━━━━━━━━━━━━\u001b[0m\u001b[37m\u001b[0m \u001b[1m0s\u001b[0m 149ms/step - f1_score: 0.7151 - loss: 0.7492\n",
            "Epoch 32: val_f1_score did not improve from 0.59779\n",
            "\n",
            "Epoch 32: val_loss improved from 0.86993 to 0.86667, saving model to drive/MyDrive/best_losswithsmote.keras\n",
            "\u001b[1m756/756\u001b[0m \u001b[32m━━━━━━━━━━━━━━━━━━━━\u001b[0m\u001b[37m\u001b[0m \u001b[1m123s\u001b[0m 163ms/step - f1_score: 0.7151 - loss: 0.7492 - val_f1_score: 0.5882 - val_loss: 0.8667\n",
            "Epoch 33/50\n",
            "\u001b[1m756/756\u001b[0m \u001b[32m━━━━━━━━━━━━━━━━━━━━\u001b[0m\u001b[37m\u001b[0m \u001b[1m0s\u001b[0m 149ms/step - f1_score: 0.7151 - loss: 0.7546\n",
            "Epoch 33: val_f1_score did not improve from 0.59779\n",
            "\n",
            "Epoch 33: val_loss did not improve from 0.86667\n",
            "\u001b[1m756/756\u001b[0m \u001b[32m━━━━━━━━━━━━━━━━━━━━\u001b[0m\u001b[37m\u001b[0m \u001b[1m142s\u001b[0m 162ms/step - f1_score: 0.7151 - loss: 0.7546 - val_f1_score: 0.5945 - val_loss: 0.8727\n",
            "Epoch 34/50\n",
            "\u001b[1m756/756\u001b[0m \u001b[32m━━━━━━━━━━━━━━━━━━━━\u001b[0m\u001b[37m\u001b[0m \u001b[1m0s\u001b[0m 149ms/step - f1_score: 0.7152 - loss: 0.7508\n",
            "Epoch 34: val_f1_score did not improve from 0.59779\n",
            "\n",
            "Epoch 34: val_loss did not improve from 0.86667\n",
            "\u001b[1m756/756\u001b[0m \u001b[32m━━━━━━━━━━━━━━━━━━━━\u001b[0m\u001b[37m\u001b[0m \u001b[1m139s\u001b[0m 158ms/step - f1_score: 0.7152 - loss: 0.7508 - val_f1_score: 0.5888 - val_loss: 0.8810\n",
            "Epoch 35/50\n",
            "\u001b[1m756/756\u001b[0m \u001b[32m━━━━━━━━━━━━━━━━━━━━\u001b[0m\u001b[37m\u001b[0m \u001b[1m0s\u001b[0m 149ms/step - f1_score: 0.7183 - loss: 0.7441\n",
            "Epoch 35: val_f1_score did not improve from 0.59779\n",
            "\n",
            "Epoch 35: val_loss did not improve from 0.86667\n",
            "\u001b[1m756/756\u001b[0m \u001b[32m━━━━━━━━━━━━━━━━━━━━\u001b[0m\u001b[37m\u001b[0m \u001b[1m146s\u001b[0m 163ms/step - f1_score: 0.7183 - loss: 0.7441 - val_f1_score: 0.5943 - val_loss: 0.8716\n",
            "Epoch 36/50\n",
            "\u001b[1m756/756\u001b[0m \u001b[32m━━━━━━━━━━━━━━━━━━━━\u001b[0m\u001b[37m\u001b[0m \u001b[1m0s\u001b[0m 149ms/step - f1_score: 0.7220 - loss: 0.7374\n",
            "Epoch 36: val_f1_score did not improve from 0.59779\n",
            "\n",
            "Epoch 36: val_loss did not improve from 0.86667\n",
            "\u001b[1m756/756\u001b[0m \u001b[32m━━━━━━━━━━━━━━━━━━━━\u001b[0m\u001b[37m\u001b[0m \u001b[1m138s\u001b[0m 158ms/step - f1_score: 0.7220 - loss: 0.7375 - val_f1_score: 0.5880 - val_loss: 0.8843\n",
            "Epoch 37/50\n",
            "\u001b[1m756/756\u001b[0m \u001b[32m━━━━━━━━━━━━━━━━━━━━\u001b[0m\u001b[37m\u001b[0m \u001b[1m0s\u001b[0m 149ms/step - f1_score: 0.7178 - loss: 0.7454\n",
            "Epoch 37: val_f1_score did not improve from 0.59779\n",
            "\n",
            "Epoch 37: val_loss did not improve from 0.86667\n",
            "\u001b[1m756/756\u001b[0m \u001b[32m━━━━━━━━━━━━━━━━━━━━\u001b[0m\u001b[37m\u001b[0m \u001b[1m142s\u001b[0m 158ms/step - f1_score: 0.7178 - loss: 0.7454 - val_f1_score: 0.5948 - val_loss: 0.8848\n"
          ]
        }
      ],
      "source": [
        "# Обучение модели\n",
        "history = model.fit(\n",
        "    X_train_scaled,\n",
        "    y_train_resampled_onehot,\n",
        "    epochs=50,\n",
        "    batch_size=128,\n",
        "    #class_weight=class_weight_dict,\n",
        "    validation_data=(X_val_scaled, y_val_onehot),\n",
        "    callbacks=callbacks\n",
        ")"
      ]
    },
    {
      "cell_type": "code",
      "execution_count": 18,
      "metadata": {
        "id": "hegOcOW9O0st"
      },
      "outputs": [],
      "source": [
        "pd.DataFrame(history.history).to_csv('drive/MyDrive/history_7to7withsmote.csv', index=False)"
      ]
    },
    {
      "cell_type": "code",
      "execution_count": null,
      "metadata": {
        "colab": {
          "base_uri": "https://localhost:8080/"
        },
        "id": "eOQwLrCW0UWL",
        "outputId": "150ccb21-578a-4b06-bfd0-58df1a3146cd"
      },
      "outputs": [
        {
          "name": "stdout",
          "output_type": "stream",
          "text": [
            "Лучшая эпоха: 31\n",
            "Train F1: 0.7125\n",
            "Train loss: 0.7575\n",
            "Validation F1: 0.5978\n",
            "Validation Loss: 0.8699\n"
          ]
        }
      ],
      "source": [
        "# Найти индекс эпохи с max val_f1\n",
        "best_epoch = np.argmax(history.history['val_f1_score'])\n",
        "\n",
        "# Метрики лучшей эпохи\n",
        "best_metrics = {\n",
        "    'epoch': best_epoch + 1, \n",
        "    'train_loss': history.history['loss'][best_epoch],\n",
        "    'val_loss': history.history['val_loss'][best_epoch],\n",
        "    'train_f1': history.history['f1_score'][best_epoch],\n",
        "    'val_f1': history.history['val_f1_score'][best_epoch]\n",
        "}\n",
        "\n",
        "print(f\"Лучшая эпоха: {best_epoch + 1}\")\n",
        "print(f\"Train F1: {best_metrics['train_f1']:.4f}\")\n",
        "print(f\"Train loss: {best_metrics['train_loss']:.4f}\")\n",
        "print(f\"Validation F1: {best_metrics['val_f1']:.4f}\")\n",
        "print(f\"Validation Loss: {best_metrics['val_loss']:.4f}\")"
      ]
    },
    {
      "cell_type": "code",
      "execution_count": null,
      "metadata": {
        "colab": {
          "base_uri": "https://localhost:8080/",
          "height": 735
        },
        "id": "RktTJtwDmHGd",
        "outputId": "d8dc42b6-6c6e-4d1e-b83d-c8169a1d6656"
      },
      "outputs": [
        {
          "name": "stdout",
          "output_type": "stream",
          "text": [
            "\u001b[1m596/596\u001b[0m \u001b[32m━━━━━━━━━━━━━━━━━━━━\u001b[0m\u001b[37m\u001b[0m \u001b[1m12s\u001b[0m 19ms/step\n"
          ]
        },
        {
          "data": {
            "image/png": "[encoded data removed]",
            "text/plain": [
              "<Figure size 1000x800 with 2 Axes>"
            ]
          },
          "metadata": {},
          "output_type": "display_data"
        }
      ],
      "source": [
        "#  Получение предсказаний\n",
        "y_pred = model.predict(X_val_scaled)\n",
        "y_pred_classes = np.argmax(y_pred, axis=1)\n",
        "\n",
        "#Преобразование one-hot encoded истинных меток\n",
        "y_true_classes = np.argmax(y_val_onehot, axis=1)\n",
        "\n",
        "#  Создание confusion matrix\n",
        "cm = confusion_matrix(y_true_classes, y_pred_classes)\n",
        "\n",
        "# Визуализация с нормализацией\n",
        "plt.figure(figsize=(10, 8))\n",
        "sns.heatmap(cm,\n",
        "           annot=True,\n",
        "           fmt='d',\n",
        "           cmap='Blues',\n",
        "           xticklabels=ohe_main.categories_[0],\n",
        "           yticklabels=ohe_main.categories_[0])\n",
        "plt.xlabel('Predicted')\n",
        "plt.ylabel('True')\n",
        "plt.title('Confusion Matrix')\n",
        "plt.show()"
      ]
    },
    {
      "cell_type": "code",
      "execution_count": null,
      "metadata": {
        "colab": {
          "base_uri": "https://localhost:8080/"
        },
        "id": "XNTbukVUnGOp",
        "outputId": "aeaee249-1dd2-49e7-95aa-e7fbec676e40"
      },
      "outputs": [
        {
          "name": "stdout",
          "output_type": "stream",
          "text": [
            "Classification Report:\n",
            "              precision    recall  f1-score   support\n",
            "\n",
            "   ECLIPSING     0.6421    0.5678    0.6027      5491\n",
            "    ERUPTIVE     0.4693    0.4795    0.4743       732\n",
            "   PULSATING     0.6774    0.8201    0.7419      8683\n",
            "    ROTATING     0.5903    0.4247    0.4940      3141\n",
            " cataclysmic     0.7770    0.5268    0.6279      1025\n",
            "\n",
            "    accuracy                         0.6535     19072\n",
            "   macro avg     0.6312    0.5638    0.5882     19072\n",
            "weighted avg     0.6502    0.6535    0.6446     19072\n",
            "\n"
          ]
        }
      ],
      "source": [
        "# Генерация отчета\n",
        "class_names = ohe_main.categories_[0] \n",
        "report = classification_report(\n",
        "    y_true_classes,\n",
        "    y_pred_classes,\n",
        "    target_names=class_names,\n",
        "    digits=4\n",
        ")\n",
        "\n",
        "print(\"Classification Report:\")\n",
        "print(report)"
      ]
    },
    {
      "cell_type": "code",
      "execution_count": null,
      "metadata": {
        "colab": {
          "base_uri": "https://localhost:8080/",
          "height": 722
        },
        "id": "jJvD7V2ipDxQ",
        "outputId": "328ba09a-e61f-4412-8f70-9f3a7123ea08"
      },
      "outputs": [],
      "source": [
        "# Создаем фигуру\n",
        "from matplotlib import pyplot as plt\n",
        "plt.figure(figsize=(15, 6))\n",
        "\n",
        "# График для Loss\n",
        "plt.subplot(1, 2, 1)\n",
        "plt.plot(history_df['loss'], label='Train Loss', color='blue', linestyle='--')\n",
        "plt.plot(history_df['val_loss'], label='Validation Loss', color='red', linestyle='-')\n",
        "plt.title('Loss Dynamics')\n",
        "plt.xlabel('Epochs')\n",
        "plt.ylabel('Loss')\n",
        "plt.legend()\n",
        "plt.grid(True)\n",
        "\n",
        "# График для F1 Macro\n",
        "plt.subplot(1, 2, 2)\n",
        "plt.plot(history_df['f1_score'], label='Train F1 Macro', color='green', linestyle='--')\n",
        "plt.plot(history_df['val_f1_score'], label='Validation F1 Macro', color='orange', linestyle='-')\n",
        "plt.title('F1 Macro Dynamics')\n",
        "plt.xlabel('Epochs')\n",
        "plt.ylabel('F1 Score')\n",
        "plt.legend()\n",
        "plt.grid(True)\n",
        "\n",
        "plt.tight_layout()\n",
        "plt.show()"
      ]
    }
  ],
  "metadata": {
    "accelerator": "GPU",
    "colab": {
      "gpuType": "T4",
      "provenance": []
    },
    "kernelspec": {
      "display_name": "Python 3",
      "name": "python3"
    },
    "language_info": {
      "codemirror_mode": {
        "name": "ipython",
        "version": 3
      },
      "file_extension": ".py",
      "mimetype": "text/x-python",
      "name": "python",
      "nbconvert_exporter": "python",
      "pygments_lexer": "ipython3",
      "version": "3.12.6"
    }
  },
  "nbformat": 4,
  "nbformat_minor": 0
}
