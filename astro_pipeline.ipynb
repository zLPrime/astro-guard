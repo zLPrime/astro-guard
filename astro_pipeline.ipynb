{
  "nbformat": 4,
  "nbformat_minor": 0,
  "metadata": {
    "colab": {
      "provenance": []
    },
    "kernelspec": {
      "name": "python3",
      "display_name": "Python 3"
    },
    "language_info": {
      "name": "python"
    }
  },
  "cells": [
    {
      "cell_type": "code",
      "source": [
        "!pip install awscli\n",
        "!pip install boto3"
      ],
      "metadata": {
        "colab": {
          "base_uri": "https://localhost:8080/"
        },
        "id": "UHb0zHAZCctY",
        "outputId": "579ea294-9da2-4714-bd3d-fe41d40793c3"
      },
      "execution_count": null,
      "outputs": [
        {
          "output_type": "stream",
          "name": "stdout",
          "text": [
            "Requirement already satisfied: awscli in /usr/local/lib/python3.11/dist-packages (1.38.19)\n",
            "Requirement already satisfied: botocore==1.37.19 in /usr/local/lib/python3.11/dist-packages (from awscli) (1.37.19)\n",
            "Requirement already satisfied: docutils<0.17,>=0.10 in /usr/local/lib/python3.11/dist-packages (from awscli) (0.16)\n",
            "Requirement already satisfied: s3transfer<0.12.0,>=0.11.0 in /usr/local/lib/python3.11/dist-packages (from awscli) (0.11.4)\n",
            "Requirement already satisfied: PyYAML<6.1,>=3.10 in /usr/local/lib/python3.11/dist-packages (from awscli) (6.0.2)\n",
            "Requirement already satisfied: colorama<0.4.7,>=0.2.5 in /usr/local/lib/python3.11/dist-packages (from awscli) (0.4.6)\n",
            "Requirement already satisfied: rsa<4.8,>=3.1.2 in /usr/local/lib/python3.11/dist-packages (from awscli) (4.7.2)\n",
            "Requirement already satisfied: jmespath<2.0.0,>=0.7.1 in /usr/local/lib/python3.11/dist-packages (from botocore==1.37.19->awscli) (1.0.1)\n",
            "Requirement already satisfied: python-dateutil<3.0.0,>=2.1 in /usr/local/lib/python3.11/dist-packages (from botocore==1.37.19->awscli) (2.8.2)\n",
            "Requirement already satisfied: urllib3!=2.2.0,<3,>=1.25.4 in /usr/local/lib/python3.11/dist-packages (from botocore==1.37.19->awscli) (2.3.0)\n",
            "Requirement already satisfied: pyasn1>=0.1.3 in /usr/local/lib/python3.11/dist-packages (from rsa<4.8,>=3.1.2->awscli) (0.6.1)\n",
            "Requirement already satisfied: six>=1.5 in /usr/local/lib/python3.11/dist-packages (from python-dateutil<3.0.0,>=2.1->botocore==1.37.19->awscli) (1.17.0)\n",
            "Requirement already satisfied: boto3 in /usr/local/lib/python3.11/dist-packages (1.37.19)\n",
            "Requirement already satisfied: botocore<1.38.0,>=1.37.19 in /usr/local/lib/python3.11/dist-packages (from boto3) (1.37.19)\n",
            "Requirement already satisfied: jmespath<2.0.0,>=0.7.1 in /usr/local/lib/python3.11/dist-packages (from boto3) (1.0.1)\n",
            "Requirement already satisfied: s3transfer<0.12.0,>=0.11.0 in /usr/local/lib/python3.11/dist-packages (from boto3) (0.11.4)\n",
            "Requirement already satisfied: python-dateutil<3.0.0,>=2.1 in /usr/local/lib/python3.11/dist-packages (from botocore<1.38.0,>=1.37.19->boto3) (2.8.2)\n",
            "Requirement already satisfied: urllib3!=2.2.0,<3,>=1.25.4 in /usr/local/lib/python3.11/dist-packages (from botocore<1.38.0,>=1.37.19->boto3) (2.3.0)\n",
            "Requirement already satisfied: six>=1.5 in /usr/local/lib/python3.11/dist-packages (from python-dateutil<3.0.0,>=2.1->botocore<1.38.0,>=1.37.19->boto3) (1.17.0)\n"
          ]
        }
      ]
    },
    {
      "cell_type": "code",
      "source": [
        "import os\n",
        "import sys\n",
        "from google.colab import userdata\n",
        "\n",
        "os.environ['GITTOKEN'] = userdata.get('github_astro_guard_token')\n",
        "\n",
        "!rm -r sample_data\n",
        "!git clone https://${GITTOKEN}@github.com/zLPrime/astro-guard.git\n",
        "\n",
        "sys.path.append('./astro-guard/ml-workbench')"
      ],
      "metadata": {
        "colab": {
          "base_uri": "https://localhost:8080/"
        },
        "id": "PBHUhxAbzvI0",
        "outputId": "6ffcbbd3-5792-4d17-9b88-b85cfd1a9864"
      },
      "execution_count": null,
      "outputs": [
        {
          "output_type": "stream",
          "name": "stdout",
          "text": [
            "rm: cannot remove 'sample_data': No such file or directory\n",
            "fatal: destination path 'astro-guard' already exists and is not an empty directory.\n"
          ]
        }
      ]
    },
    {
      "cell_type": "code",
      "source": [
        "from astro_data import dataloader\n",
        "from sklearn.preprocessing import LabelEncoder\n",
        "\n",
        "label_encoder = LabelEncoder()\n",
        "\n",
        "train_data, test_data = dataloader.get_train_test(dataloader.get_jd_magn_graph_dataset(\n",
        "    userdata.get('aws_access_key_id'),\n",
        "    userdata.get('aws_secret_access_key'), label_encoder,\n",
        "    cache_path='/content/astro-guard/ml-workbench/astro_data/objects_cache.json'),\n",
        "                                                  batch_size=16)"
      ],
      "metadata": {
        "colab": {
          "base_uri": "https://localhost:8080/"
        },
        "id": "IQqJK8sCYGjf",
        "outputId": "b576a29f-c151-42ad-e3de-8a4b335e1eaa"
      },
      "execution_count": null,
      "outputs": [
        {
          "output_type": "stream",
          "name": "stdout",
          "text": [
            "Loading object keys from cache...\n"
          ]
        }
      ]
    },
    {
      "cell_type": "code",
      "source": [
        "from astro_model.model import SimpleCNN\n",
        "from astro_train.trainer import astro_train\n",
        "from torch import cuda\n",
        "\n",
        "model = SimpleCNN()\n",
        "device = 'cuda' if cuda.is_available() else 'cpu'"
      ],
      "metadata": {
        "id": "7EW-CHyBn6fx"
      },
      "execution_count": null,
      "outputs": []
    },
    {
      "cell_type": "code",
      "source": [
        "import resource\n",
        "\n",
        "# Set max memory usage to 1 GB (in bytes)\n",
        "ONE_GB = 1 * 1024 * 1024 * 1024\n",
        "resource.setrlimit(resource.RLIMIT_AS, (ONE_GB * 30, ONE_GB * 30))"
      ],
      "metadata": {
        "id": "GWXkKCIhxbLp"
      },
      "execution_count": null,
      "outputs": []
    },
    {
      "cell_type": "code",
      "source": [
        "astro_train(model, train_data, 3, device)"
      ],
      "metadata": {
        "colab": {
          "base_uri": "https://localhost:8080/"
        },
        "id": "S_JCfq9GXimY",
        "outputId": "cc58fa62-d74e-48b8-8b54-ded0028d4112"
      },
      "execution_count": null,
      "outputs": [
        {
          "output_type": "stream",
          "name": "stderr",
          "text": [
            " 67%|██████▋   | 59/88 [18:59<09:27, 19.58s/it]"
          ]
        }
      ]
    },
    {
      "cell_type": "code",
      "source": [
        "from astro_test.test import print_evaluate\n",
        "\n",
        "print_evaluate(model, test_data, label_encoder, device)"
      ],
      "metadata": {
        "id": "nFHXgEnRXx1V"
      },
      "execution_count": null,
      "outputs": []
    }
  ]
}