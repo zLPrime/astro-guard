{
 "cells": [
  {
   "cell_type": "code",
   "execution_count": 23,
   "id": "f0594aa7",
   "metadata": {},
   "outputs": [],
   "source": [
    "from loading_and_preprocessing.preprocessing_newdata_for_model import prepare_single_object, process_files\n",
    "from tensorflow.keras.models import load_model\n",
    "import numpy as np\n",
    "import json"
   ]
  },
  {
   "cell_type": "code",
   "execution_count": 3,
   "id": "21417443",
   "metadata": {},
   "outputs": [],
   "source": [
    "model = load_model('models\\\\WaveNet_based\\\\maintypes_best_f1.keras', compile=False)"
   ]
  },
  {
   "cell_type": "code",
   "execution_count": 35,
   "id": "4e02a467",
   "metadata": {},
   "outputs": [],
   "source": [
    "with open('data\\\\main_class_labels.json', 'r') as f:\n",
    "    class_names = np.array(json.load(f))"
   ]
  },
  {
   "cell_type": "code",
   "execution_count": null,
   "id": "487a59b4",
   "metadata": {},
   "outputs": [],
   "source": [
    "processed_data = process_files(\n",
    "    file_list=['1017327.csv', '1006746.csv'],\n",
    "    mag_col='mag',\n",
    "    mjd_col='mjd',\n",
    "    mag_err_col='mag_err'\n",
    ")"
   ]
  },
  {
   "cell_type": "code",
   "execution_count": 34,
   "id": "66222e69",
   "metadata": {},
   "outputs": [
    {
     "name": "stdout",
     "output_type": "stream",
     "text": [
      "\u001b[1m1/1\u001b[0m \u001b[32m━━━━━━━━━━━━━━━━━━━━\u001b[0m\u001b[37m\u001b[0m \u001b[1m0s\u001b[0m 27ms/step\n",
      "Наиболее вероятный класс 1 объекта: PULSATING (99.99%)\n",
      "Наиболее вероятный класс 2 объекта: ROTATING (52.05%)\n"
     ]
    }
   ],
   "source": [
    "y_pred = model.predict(processed_data)\n",
    "y_pred_classes = np.argmax(y_pred, axis=1)\n",
    "for i, class_idx in enumerate(y_pred_classes):\n",
    "    class_name = class_names[class_idx]\n",
    "    confidence = y_pred[i][class_idx]\n",
    "    print(f\"Наиболее вероятный класс {i+1} объекта: {class_name} ({confidence*100:.2f}%)\")\n"
   ]
  }
 ],
 "metadata": {
  "kernelspec": {
   "display_name": "Python 3",
   "language": "python",
   "name": "python3"
  },
  "language_info": {
   "codemirror_mode": {
    "name": "ipython",
    "version": 3
   },
   "file_extension": ".py",
   "mimetype": "text/x-python",
   "name": "python",
   "nbconvert_exporter": "python",
   "pygments_lexer": "ipython3",
   "version": "3.12.6"
  }
 },
 "nbformat": 4,
 "nbformat_minor": 5
}
